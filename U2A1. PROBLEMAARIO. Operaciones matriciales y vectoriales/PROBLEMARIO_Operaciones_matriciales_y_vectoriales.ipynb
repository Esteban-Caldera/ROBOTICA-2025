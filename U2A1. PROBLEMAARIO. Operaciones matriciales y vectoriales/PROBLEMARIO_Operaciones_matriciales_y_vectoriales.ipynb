{
  "nbformat": 4,
  "nbformat_minor": 0,
  "metadata": {
    "colab": {
      "provenance": [],
      "authorship_tag": "ABX9TyO4WAqxI38R8qJMDWZaHP4j",
      "include_colab_link": true
    },
    "kernelspec": {
      "name": "python3",
      "display_name": "Python 3"
    },
    "language_info": {
      "name": "python"
    }
  },
  "cells": [
    {
      "cell_type": "markdown",
      "metadata": {
        "id": "view-in-github",
        "colab_type": "text"
      },
      "source": [
        "<a href=\"https://colab.research.google.com/github/Esteban-Caldera/ROBOTICA-2025/blob/main/U2A1.%20PROBLEMAARIO.%20Operaciones%20matriciales%20y%20vectoriales/PROBLEMARIO_Operaciones_matriciales_y_vectoriales.ipynb\" target=\"_parent\"><img src=\"https://colab.research.google.com/assets/colab-badge.svg\" alt=\"Open In Colab\"/></a>"
      ]
    },
    {
      "cell_type": "markdown",
      "source": [
        "#U2A1.PROBLEMARIO. Operaciones matriciales y vectoriales\n",
        "En esencia, esta tarea consistió en resolver problemas fundamentales de álgebra lineal utilizando Python como herramienta de cálculo. En lugar de hacer las operaciones a mano, se programaron las soluciones para que la computadora las ejecutara de forma rápida y precisa."
      ],
      "metadata": {
        "id": "pbHsvBaHEyiK"
      }
    },
    {
      "cell_type": "markdown",
      "source": [
        "##Librerias"
      ],
      "metadata": {
        "id": "7asZSAKdEz_D"
      }
    },
    {
      "cell_type": "code",
      "execution_count": 1,
      "metadata": {
        "id": "Ki55wVAWEuwV"
      },
      "outputs": [],
      "source": [
        "# Importamos la librería NumPy, que es el estándar en Python para trabajar con matrices y vectores.\n",
        "# La renombramos como 'np' por convención para que sea más fácil de usar.\n",
        "import numpy as np\n",
        "\n",
        "# Importamos la clase 'Matrix' de la librería SymPy.\n",
        "# SymPy es una librería para matemáticas simbólicas, ideal para encontrar el espacio nulo de forma exacta.\n",
        "from sympy import Matrix"
      ]
    },
    {
      "cell_type": "markdown",
      "source": [
        "##Ejercicio 1: Suma de matrices"
      ],
      "metadata": {
        "id": "W4virKu2E9QI"
      }
    },
    {
      "cell_type": "code",
      "source": [
        "# --- Definición de las matrices ---\n",
        "# Creamos la matriz A utilizando la función array de NumPy.\n",
        "A = np.array([[2, 4, 6],\n",
        "              [1, 3, 5],\n",
        "              [7, 9, 11]])\n",
        "\n",
        "# Creamos la matriz B de la misma manera.\n",
        "B = np.array([[12, 10, 8],\n",
        "              [6, 4, 2],\n",
        "              [0, -2, -4]])\n",
        "\n",
        "# --- Operación de suma ---\n",
        "# En NumPy, la suma de matrices se realiza de forma intuitiva con el operador '+'.\n",
        "# NumPy se encarga de sumar cada elemento de A con su correspondiente en B.\n",
        "C = A + B\n",
        "\n",
        "# --- Impresión de resultados ---\n",
        "# Mostramos las matrices originales y la resultante para una clara visualización.\n",
        "print(\"Matriz A:\")\n",
        "print(A)\n",
        "print(\"\\nMatriz B:\")\n",
        "print(B)\n",
        "print(\"\\nMatriz Resultante C = A + B:\")\n",
        "print(C)"
      ],
      "metadata": {
        "colab": {
          "base_uri": "https://localhost:8080/"
        },
        "id": "9np1UGHhE_eL",
        "outputId": "c506df26-580e-4577-d791-94439417c436"
      },
      "execution_count": 13,
      "outputs": [
        {
          "output_type": "stream",
          "name": "stdout",
          "text": [
            "Matriz A:\n",
            "[[ 2  4  6]\n",
            " [ 1  3  5]\n",
            " [ 7  9 11]]\n",
            "\n",
            "Matriz B:\n",
            "[[12 10  8]\n",
            " [ 6  4  2]\n",
            " [ 0 -2 -4]]\n",
            "\n",
            "Matriz Resultante C = A + B:\n",
            "[[14 14 14]\n",
            " [ 7  7  7]\n",
            " [ 7  7  7]]\n"
          ]
        }
      ]
    },
    {
      "cell_type": "markdown",
      "source": [
        "##Ejercicio 2: Multiplicación de matrices"
      ],
      "metadata": {
        "id": "DZeMqPYhFt6g"
      }
    },
    {
      "cell_type": "code",
      "source": [
        "# --- Definición de las matrices ---\n",
        "# Definimos la matriz A (dimensiones 3x2).\n",
        "A = np.array([[2, 1],\n",
        "              [3, 4],\n",
        "              [5, 6]])\n",
        "\n",
        "# Definimos la matriz B (dimensiones 2x2).\n",
        "# El número de columnas de A (2) es igual al número de filas de B (2), por lo que la multiplicación es posible.\n",
        "B = np.array([[7, 8],\n",
        "              [9, 10]])\n",
        "\n",
        "# --- Operación de multiplicación ---\n",
        "# El operador '@' se utiliza en Python (a partir de la versión 3.5) específicamente para la multiplicación de matrices.\n",
        "# Realiza el producto punto entre las filas de A y las columnas de B.\n",
        "C = A @ B\n",
        "\n",
        "# --- Impresión de resultados ---\n",
        "print(\"Matriz A (3x2):\")\n",
        "print(A)\n",
        "print(\"\\nMatriz B (2x2):\")\n",
        "print(B)\n",
        "print(\"\\nMatriz Resultante C = A * B (3x2):\")\n",
        "print(C)"
      ],
      "metadata": {
        "colab": {
          "base_uri": "https://localhost:8080/"
        },
        "id": "t3SwPhZJFwzN",
        "outputId": "b7fea1ec-9572-4d7d-d9a9-1a2f3c2fbbde"
      },
      "execution_count": 15,
      "outputs": [
        {
          "output_type": "stream",
          "name": "stdout",
          "text": [
            "Matriz A (3x2):\n",
            "[[2 1]\n",
            " [3 4]\n",
            " [5 6]]\n",
            "\n",
            "Matriz B (2x2):\n",
            "[[ 7  8]\n",
            " [ 9 10]]\n",
            "\n",
            "Matriz Resultante C = A * B (3x2):\n",
            "[[ 23  26]\n",
            " [ 57  64]\n",
            " [ 89 100]]\n"
          ]
        }
      ]
    },
    {
      "cell_type": "markdown",
      "source": [
        "##Ejercicio 3: Inversión de matriz"
      ],
      "metadata": {
        "id": "1oBj8Tl3F9ie"
      }
    },
    {
      "cell_type": "code",
      "source": [
        "# --- Definición de la matriz ---\n",
        "# Definimos una matriz cuadrada A (3x3), requisito indispensable para que pueda tener inversa.\n",
        "A = np.array([[4, 7, 2],\n",
        "              [2, 6, 8],\n",
        "              [3, 1, 9]])\n",
        "\n",
        "# --- Cálculo de la inversa ---\n",
        "# Usamos el módulo de álgebra lineal de NumPy (linalg) y su función inv() para calcular la inversa.\n",
        "# Si la matriz no fuera invertible (su determinante es cero), este comando arrojaría un error.\n",
        "A_inversa = np.linalg.inv(A)\n",
        "\n",
        "# --- Impresión de resultados ---\n",
        "print(\"Matriz A:\")\n",
        "print(A)\n",
        "print(\"\\nMatriz Inversa A^(-1):\")\n",
        "print(A_inversa)"
      ],
      "metadata": {
        "colab": {
          "base_uri": "https://localhost:8080/"
        },
        "id": "9pGD5CW1F8dT",
        "outputId": "f4614a73-ec04-4f62-d338-5b09127f7cf2"
      },
      "execution_count": 14,
      "outputs": [
        {
          "output_type": "stream",
          "name": "stdout",
          "text": [
            "Matriz A:\n",
            "[[4 7 2]\n",
            " [2 6 8]\n",
            " [3 1 9]]\n",
            "\n",
            "Matriz Inversa A^(-1):\n",
            "[[ 0.2371134  -0.31443299  0.22680412]\n",
            " [ 0.03092784  0.15463918 -0.1443299 ]\n",
            " [-0.08247423  0.08762887  0.05154639]]\n"
          ]
        }
      ]
    },
    {
      "cell_type": "markdown",
      "source": [
        "##Ejercicio 4: Resolución de sistema de ecuaciones lineales"
      ],
      "metadata": {
        "id": "ru0OZT68GFC6"
      }
    },
    {
      "cell_type": "code",
      "source": [
        "# --- Representación matricial del sistema ---\n",
        "# 2x + y + z = 8\n",
        "# 3x + 5y + 2z = 21\n",
        "# x + 2y + 4z = 11\n",
        "\n",
        "# Matriz A: Contiene los coeficientes de las variables (x, y, z) en cada ecuación.\n",
        "A = np.array([[2, 1, 1],\n",
        "              [3, 5, 2],\n",
        "              [1, 2, 4]])\n",
        "\n",
        "# Vector B: Contiene los términos constantes (los resultados de cada ecuación).\n",
        "B = np.array([8, 21, 11])\n",
        "\n",
        "# --- Resolución del sistema ---\n",
        "# La función np.linalg.solve(A, B) es el método preferido para resolver sistemas AX = B.\n",
        "# Es numéricamente más estable y eficiente que calcular la inversa de A y multiplicarla por B.\n",
        "X = np.linalg.solve(A, B)\n",
        "\n",
        "# --- Impresión de resultados ---\n",
        "print(\"Matriz de coeficientes A:\")\n",
        "print(A)\n",
        "print(\"\\nVector de constantes B:\")\n",
        "print(B)\n",
        "# El vector X contendrá los valores de [x, y, z] que satisfacen el sistema.\n",
        "print(\"\\nVector de soluciones X [x, y, z]:\")\n",
        "print(X)"
      ],
      "metadata": {
        "colab": {
          "base_uri": "https://localhost:8080/"
        },
        "id": "90EM45tbGId4",
        "outputId": "dd99f061-1ee3-4c38-c25b-df9222ab279d"
      },
      "execution_count": 16,
      "outputs": [
        {
          "output_type": "stream",
          "name": "stdout",
          "text": [
            "Matriz de coeficientes A:\n",
            "[[2 1 1]\n",
            " [3 5 2]\n",
            " [1 2 4]]\n",
            "\n",
            "Vector de constantes B:\n",
            "[ 8 21 11]\n",
            "\n",
            "Vector de soluciones X [x, y, z]:\n",
            "[2.30434783 2.43478261 0.95652174]\n"
          ]
        }
      ]
    },
    {
      "cell_type": "markdown",
      "source": [
        "##Ejercicio 5: Cálculo de determinante"
      ],
      "metadata": {
        "id": "0YU7HqwUGKY5"
      }
    },
    {
      "cell_type": "code",
      "source": [
        "# --- Definición de la matriz ---\n",
        "# Definimos la matriz cuadrada A de la cual queremos conocer su determinante.\n",
        "A = np.array([[3, -2, 1],\n",
        "              [0, 5, 4],\n",
        "              [2, 1, 7]])\n",
        "\n",
        "# --- Cálculo del determinante ---\n",
        "# Usamos la función det() del módulo de álgebra lineal de NumPy (linalg).\n",
        "determinante_A = np.linalg.det(A)\n",
        "\n",
        "# --- Impresión de resultados ---\n",
        "print(\"Matriz A:\")\n",
        "print(A)\n",
        "# Usamos una f-string para imprimir el resultado de forma clara.\n",
        "print(f\"\\nDeterminante de A: {determinante_A}\")"
      ],
      "metadata": {
        "colab": {
          "base_uri": "https://localhost:8080/"
        },
        "id": "AtUPk8v5GQ5m",
        "outputId": "f1f044a3-5cb0-4bed-f7cf-6e823307f030"
      },
      "execution_count": 17,
      "outputs": [
        {
          "output_type": "stream",
          "name": "stdout",
          "text": [
            "Matriz A:\n",
            "[[ 3 -2  1]\n",
            " [ 0  5  4]\n",
            " [ 2  1  7]]\n",
            "\n",
            "Determinante de A: 67.00000000000004\n"
          ]
        }
      ]
    },
    {
      "cell_type": "markdown",
      "source": [
        "##Ejercicio 6: Producto cruz de vectores"
      ],
      "metadata": {
        "id": "Djf8DE2vGUKZ"
      }
    },
    {
      "cell_type": "code",
      "source": [
        "# --- Definición de los vectores ---\n",
        "# Definimos el vector A como un arreglo de NumPy.\n",
        "A = np.array([2, 3, -1])\n",
        "\n",
        "# Definimos el vector B.\n",
        "B = np.array([1, -2, 4])\n",
        "\n",
        "# --- Cálculo del producto cruz ---\n",
        "# La función np.cross() calcula el producto cruz entre dos vectores.\n",
        "# El resultado es un nuevo vector que es ortogonal (perpendicular) tanto a A como a B.\n",
        "producto_cruz = np.cross(A, B)\n",
        "\n",
        "# --- Impresión de resultados ---\n",
        "print(f\"Vector A: {A}\")\n",
        "print(f\"Vector B: {B}\")\n",
        "print(f\"\\nProducto Cruz (A x B), un vector perpendicular a A y B: {producto_cruz}\")"
      ],
      "metadata": {
        "colab": {
          "base_uri": "https://localhost:8080/"
        },
        "id": "24VqkHXgGX1z",
        "outputId": "b2902001-6cad-4191-9e1f-54dcf99e6f1e"
      },
      "execution_count": 18,
      "outputs": [
        {
          "output_type": "stream",
          "name": "stdout",
          "text": [
            "Vector A: [ 2  3 -1]\n",
            "Vector B: [ 1 -2  4]\n",
            "\n",
            "Producto Cruz (A x B), un vector perpendicular a A y B: [10 -9 -7]\n"
          ]
        }
      ]
    },
    {
      "cell_type": "markdown",
      "source": [
        "##Ejercicio 7: Proyección ortogonal"
      ],
      "metadata": {
        "id": "DlHsfHTpGaFX"
      }
    },
    {
      "cell_type": "code",
      "source": [
        "# --- Definición de los vectores ---\n",
        "# Vector V que será proyectado.\n",
        "V = np.array([5, -3, 2])\n",
        "# Vector U sobre el cual se proyectará V.\n",
        "U = np.array([2, 1, 2])\n",
        "\n",
        "# --- Cálculo de la proyección según la fórmula ---\n",
        "# Fórmula: proy_U(V) = ( (V·U) / ||U||² ) * U\n",
        "\n",
        "# 1. Calculamos el producto escalar (o producto punto) entre V y U.\n",
        "producto_escalar = np.dot(V, U)\n",
        "\n",
        "# 2. Calculamos la magnitud al cuadrado de U. Es más eficiente hacer U·U que sqrt(U·U)².\n",
        "u_mag_cuadrada = np.dot(U, U)\n",
        "\n",
        "# 3. Aplicamos la fórmula completa.\n",
        "# El resultado de (producto_escalar / u_mag_cuadrada) es un escalar que \"escala\" el vector U.\n",
        "proyeccion = (producto_escalar / u_mag_cuadrada) * U\n",
        "\n",
        "# --- Impresión de resultados ---\n",
        "print(f\"Vector V: {V}\")\n",
        "print(f\"Vector U: {U}\")\n",
        "print(f\"\\nProyección de V sobre U: {proyeccion}\")"
      ],
      "metadata": {
        "colab": {
          "base_uri": "https://localhost:8080/"
        },
        "id": "q4wPDmYaGctI",
        "outputId": "94830d36-73d7-445a-e229-9d149e69b363"
      },
      "execution_count": 19,
      "outputs": [
        {
          "output_type": "stream",
          "name": "stdout",
          "text": [
            "Vector V: [ 5 -3  2]\n",
            "Vector U: [2 1 2]\n",
            "\n",
            "Proyección de V sobre U: [2.44444444 1.22222222 2.44444444]\n"
          ]
        }
      ]
    },
    {
      "cell_type": "markdown",
      "source": [
        "##Ejercicio 8: Producto escalar de proyecciones"
      ],
      "metadata": {
        "id": "ij7ltzFxGexA"
      }
    },
    {
      "cell_type": "code",
      "source": [
        "# --- Definición de los vectores ---\n",
        "V = np.array([3, -1, 2])\n",
        "U = np.array([2, 2, -1])\n",
        "W = np.array([1, 4, -2])\n",
        "\n",
        "# --- Paso 1: Calcular la proyección de V sobre U ---\n",
        "# Reutilizamos la lógica del ejercicio anterior.\n",
        "proj_V_en_U = (np.dot(V, U) / np.dot(U, U)) * U\n",
        "\n",
        "# --- Paso 2: Calcular la proyección de V sobre W ---\n",
        "# Aplicamos la misma fórmula, pero ahora con los vectores V y W.\n",
        "proj_V_en_W = (np.dot(V, W) / np.dot(W, W)) * W\n",
        "\n",
        "# --- Paso 3: Calcular el producto escalar de los resultados ---\n",
        "# Calculamos el producto punto entre los dos vectores de proyección que obtuvimos.\n",
        "resultado_final = np.dot(proj_V_en_U, proj_V_en_W)\n",
        "\n",
        "# --- Impresión de resultados ---\n",
        "print(f\"Proyección de V sobre U: {proj_V_en_U}\")\n",
        "print(f\"Proyección de V sobre W: {proj_V_en_W}\")\n",
        "print(f\"\\nProducto escalar de las dos proyecciones: {resultado_final}\")"
      ],
      "metadata": {
        "colab": {
          "base_uri": "https://localhost:8080/"
        },
        "id": "gUhrWrh7Ghu2",
        "outputId": "b0def88c-8fa5-4d21-c87a-a9f05f8add1c"
      },
      "execution_count": 20,
      "outputs": [
        {
          "output_type": "stream",
          "name": "stdout",
          "text": [
            "Proyección de V sobre U: [ 0.44444444  0.44444444 -0.22222222]\n",
            "Proyección de V sobre W: [-0.23809524 -0.95238095  0.47619048]\n",
            "\n",
            "Producto escalar de las dos proyecciones: -0.6349206349206349\n"
          ]
        }
      ]
    },
    {
      "cell_type": "markdown",
      "source": [
        "##Ejercicio 9: Ortogonalización de Gram-Schmidt"
      ],
      "metadata": {
        "id": "t4Z0Gs5bGjra"
      }
    },
    {
      "cell_type": "code",
      "source": [
        "# --- Definición de los vectores originales ---\n",
        "v1 = np.array([1, 1, 0])\n",
        "v2 = np.array([1, 2, 1])\n",
        "v3 = np.array([2, 1, 3])\n",
        "\n",
        "# --- Función auxiliar para la proyección ---\n",
        "# Definimos una función para calcular la proyección y así no repetir código.\n",
        "# Esta función toma el vector a proyectar (v) y el vector sobre el que se proyecta (u).\n",
        "def proyeccion(v, u):\n",
        "    return (np.dot(v, u) / np.dot(u, u)) * u\n",
        "\n",
        "# --- Proceso de Ortogonalización ---\n",
        "# 1. El primer vector ortogonal (u1) es simplemente el primer vector original (v1).\n",
        "u1 = v1\n",
        "\n",
        "# 2. El segundo vector (u2) se obtiene restando a v2 su proyección sobre u1.\n",
        "# Esto elimina la componente de v2 que va en la dirección de u1, dejando solo la parte perpendicular.\n",
        "u2 = v2 - proyeccion(v2, u1)\n",
        "\n",
        "# 3. El tercer vector (u3) se obtiene restando a v3 sus proyecciones sobre u1 y u2.\n",
        "# Así, eliminamos las componentes en las direcciones de los dos primeros vectores ortogonales.\n",
        "u3 = v3 - proyeccion(v3, u1) - proyeccion(v3, u2)\n",
        "\n",
        "# --- Impresión de resultados ---\n",
        "print(\"Vectores originales:\")\n",
        "print(f\"v1 = {v1}\")\n",
        "print(f\"v2 = {v2}\")\n",
        "print(f\"v3 = {v3}\")\n",
        "print(\"\\nConjunto ortogonal equivalente (u1, u2, u3):\")\n",
        "print(f\"u1 = {u1}\")\n",
        "print(f\"u2 = {u2}\")\n",
        "print(f\"u3 = {u3}\")"
      ],
      "metadata": {
        "colab": {
          "base_uri": "https://localhost:8080/"
        },
        "id": "Mx9qCm3HGkAc",
        "outputId": "78ec0d73-fbae-48d1-926f-9d9479d749c2"
      },
      "execution_count": 21,
      "outputs": [
        {
          "output_type": "stream",
          "name": "stdout",
          "text": [
            "Vectores originales:\n",
            "v1 = [1 1 0]\n",
            "v2 = [1 2 1]\n",
            "v3 = [2 1 3]\n",
            "\n",
            "Conjunto ortogonal equivalente (u1, u2, u3):\n",
            "u1 = [1 1 0]\n",
            "u2 = [-0.5  0.5  1. ]\n",
            "u3 = [ 1.33333333 -1.33333333  1.33333333]\n"
          ]
        }
      ]
    },
    {
      "cell_type": "markdown",
      "source": [
        "##Ejercicio 10: Espacio nulo"
      ],
      "metadata": {
        "id": "vcYuBZofGpAE"
      }
    },
    {
      "cell_type": "code",
      "source": [
        "# --- Definición de la matriz con SymPy ---\n",
        "# Usamos la librería SymPy porque es excelente para cálculos algebraicos exactos,\n",
        "# a diferencia de NumPy que se enfoca en cálculos numéricos (con decimales).\n",
        "A = Matrix([[1, 2, 0, 3],\n",
        "            [0, 1, 0, 2],\n",
        "            [0, 0, 1, 1]])\n",
        "\n",
        "# --- Cálculo del espacio nulo ---\n",
        "# El método .nullspace() de un objeto Matriz de SymPy calcula directamente\n",
        "# una lista de vectores que forman una base para el espacio nulo.\n",
        "base_espacio_nulo = A.nullspace()\n",
        "\n",
        "# --- Impresión de resultados ---\n",
        "print(\"Matriz A:\")\n",
        "# Imprimimos la matriz de SymPy de una forma más legible.\n",
        "for row in A.tolist():\n",
        "    print(row)\n",
        "\n",
        "print(\"\\nBase para el espacio nulo de A:\")\n",
        "# El resultado es una lista que contiene uno o más vectores. Cada vector en esta\n",
        "# lista es una solución a Av=0, y cualquier combinación lineal de ellos también lo es.\n",
        "for vector in base_espacio_nulo:\n",
        "    print(vector)"
      ],
      "metadata": {
        "colab": {
          "base_uri": "https://localhost:8080/"
        },
        "id": "J-uNt26_GpSx",
        "outputId": "922357e3-62fd-4377-92f3-d0ceeedb79e2"
      },
      "execution_count": 22,
      "outputs": [
        {
          "output_type": "stream",
          "name": "stdout",
          "text": [
            "Matriz A:\n",
            "[1, 2, 0, 3]\n",
            "[0, 1, 0, 2]\n",
            "[0, 0, 1, 1]\n",
            "\n",
            "Base para el espacio nulo de A:\n",
            "Matrix([[1], [-2], [-1], [1]])\n"
          ]
        }
      ]
    }
  ]
}